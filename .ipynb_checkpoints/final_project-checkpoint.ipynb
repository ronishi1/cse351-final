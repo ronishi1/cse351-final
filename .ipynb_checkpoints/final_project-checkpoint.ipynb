{
 "cells": [
  {
   "cell_type": "markdown",
   "metadata": {},
   "source": [
    "# CSE 351 FINAL PROJECT\n",
    "Group: Ray Onishi, Sajed Nahian, Matthew Chun\n",
    "\n",
    "# What makes people in a country happy?\n",
    "\n",
    "# # EDA:\n",
    "\n",
    "To first start off, we imported all the necessary packages and csv files."
   ]
  },
  {
   "cell_type": "code",
   "execution_count": 3,
   "metadata": {},
   "outputs": [],
   "source": [
    "import pandas as pd\n",
    "import matplotlib.pyplot as plt\n",
    "import numpy as np\n",
    "from sklearn.linear_model import LinearRegression\n",
    "\n",
    "happiness_2015 = pd.read_csv(\"2015.csv\")\n",
    "happiness_2016 = pd.read_csv(\"2016.csv\")\n",
    "happiness_2017 = pd.read_csv(\"2017.csv\")\n",
    "happiness_2018 = pd.read_csv(\"2018.csv\")\n",
    "happiness_2019 = pd.read_csv(\"2019.csv\")"
   ]
  },
  {
   "cell_type": "markdown",
   "metadata": {},
   "source": [
    "The first action we took with our data was renaming the columns of all the csv files in order to make sure there were no errors when we eventually performed the merging of the datasets."
   ]
  },
  {
   "cell_type": "code",
   "execution_count": 4,
   "metadata": {},
   "outputs": [],
   "source": [
    "# Renaming Columns for 2015\n",
    "happiness_2015 = happiness_2015.rename(columns=\n",
    "{ \n",
    "\"Country\": \"Country\",\n",
    "\"Happiness Rank\": \"Happiness Rank\",\n",
    "\"Happiness Score\": \"Happiness Score\",\n",
    "\"Economy (GDP per Capita)\": \"Economy (GDP per Capita)\",\n",
    "\"Health (Life Expectancy)\": \"Life Expectancy\",\n",
    "\"Freedom\": \"Freedom\",\n",
    "\"Trust (Government Corruption)\": \"Trust (Government Corruption)\",\n",
    "\"Generosity\": \"Generosity\",\n",
    "\"Family\": \"Family\"\n",
    "}, errors=\"raise\")"
   ]
  },
  {
   "cell_type": "code",
   "execution_count": 5,
   "metadata": {},
   "outputs": [],
   "source": [
    "# Renaming Columns for 2016\n",
    "happiness_2016 = happiness_2016.rename(columns=\n",
    "{ \n",
    "\"Country\": \"Country\",\n",
    "\"Happiness Rank\": \"Happiness Rank\",\n",
    "\"Happiness Score\": \"Happiness Score\",\n",
    "\"Economy (GDP per Capita)\": \"Economy (GDP per Capita)\",\n",
    "\"Health (Life Expectancy)\": \"Life Expectancy\",\n",
    "\"Freedom\": \"Freedom\",\n",
    "\"Trust (Government Corruption)\": \"Trust (Government Corruption)\",\n",
    "\"Generosity\": \"Generosity\",\n",
    "\"Family\": \"Family\"\n",
    "}, errors=\"raise\")"
   ]
  },
  {
   "cell_type": "code",
   "execution_count": 6,
   "metadata": {},
   "outputs": [],
   "source": [
    "# Renaming Columns for 2017\n",
    "happiness_2017 = happiness_2017.rename(columns=\n",
    "{ \n",
    "\"Country\": \"Country\",\n",
    "\"Happiness.Rank\": \"Happiness Rank\",\n",
    "\"Happiness.Score\": \"Happiness Score\",\n",
    "\"Economy..GDP.per.Capita.\": \"Economy (GDP per Capita)\",\n",
    "\"Health..Life.Expectancy.\": \"Life Expectancy\",\n",
    "\"Freedom\": \"Freedom\",\n",
    "\"Trust..Government.Corruption.\": \"Trust (Government Corruption)\",\n",
    "\"Generosity\": \"Generosity\",\n",
    "\"Family\": \"Family\"\n",
    "}, errors=\"raise\")"
   ]
  },
  {
   "cell_type": "code",
   "execution_count": 7,
   "metadata": {},
   "outputs": [],
   "source": [
    "# Renaming Columns for 2018\n",
    "happiness_2018 = happiness_2018.rename(columns=\n",
    "{ \n",
    "\"Country or region\": \"Country\",\n",
    "\"Overall rank\": \"Happiness Rank\",\n",
    "\"Score\": \"Happiness Score\",\n",
    "\"GDP per capita\": \"Economy (GDP per Capita)\",\n",
    "\"Healthy life expectancy\": \"Life Expectancy\",\n",
    "\"Freedom to make life choices\": \"Freedom\",\n",
    "\"Perceptions of corruption\": \"Trust (Government Corruption)\",\n",
    "\"Generosity\": \"Generosity\",\n",
    "\"Social support\": \"Family\"\n",
    "}, errors=\"raise\")"
   ]
  },
  {
   "cell_type": "code",
   "execution_count": 8,
   "metadata": {},
   "outputs": [],
   "source": [
    "# Renaming Columns for 2019\n",
    "happiness_2019 = happiness_2019.rename(columns=\n",
    "{ \n",
    "\"Country or region\": \"Country\",\n",
    "\"Overall rank\": \"Happiness Rank\",\n",
    "\"Score\": \"Happiness Score\",\n",
    "\"GDP per capita\": \"Economy (GDP per Capita)\",\n",
    "\"Healthy life expectancy\": \"Life Expectancy\",\n",
    "\"Freedom to make life choices\": \"Freedom\",\n",
    "\"Perceptions of corruption\": \"Trust (Government Corruption)\",\n",
    "\"Generosity\": \"Generosity\",\n",
    "\"Social support\": \"Family\"\n",
    "}, errors=\"raise\")"
   ]
  },
  {
   "cell_type": "markdown",
   "metadata": {},
   "source": [
    "After ensuring that all the csv files held the same column names, we then needed to add a column that noted the year of the data. This was in order to ensure that we would not lose that information upon merging the files into one dataset."
   ]
  },
  {
   "cell_type": "code",
   "execution_count": 9,
   "metadata": {},
   "outputs": [],
   "source": [
    "# Adding a year column\n",
    "happiness_2015[\"Year\"] = 2015\n",
    "happiness_2016[\"Year\"] = 2016\n",
    "happiness_2017[\"Year\"] = 2017\n",
    "happiness_2018[\"Year\"] = 2018\n",
    "happiness_2019[\"Year\"] = 2019"
   ]
  },
  {
   "cell_type": "code",
   "execution_count": 10,
   "metadata": {},
   "outputs": [],
   "source": [
    "all_columns = [\"Country\", \"Happiness Rank\", \"Happiness Score\", \"Economy (GDP per Capita)\", \"Life Expectancy\", \"Freedom\", \"Trust (Government Corruption)\", \"Generosity\", \"Family\", \"Year\"]\n",
    "happiness_data = happiness_2015[all_columns]\n",
    "\n",
    "happiness_data = happiness_data.append(happiness_2016[all_columns])\n",
    "happiness_data = happiness_data.append(happiness_2017[all_columns])\n",
    "happiness_data = happiness_data.append(happiness_2018[all_columns])\n",
    "happiness_data = happiness_data.append(happiness_2019[all_columns])"
   ]
  },
  {
   "cell_type": "markdown",
   "metadata": {},
   "source": [
    "All of the provided data has now been merged into one dataset named \"happiness_data\"."
   ]
  },
  {
   "cell_type": "code",
   "execution_count": 43,
   "metadata": {},
   "outputs": [
    {
     "data": {
      "text/html": [
       "<div>\n",
       "<style scoped>\n",
       "    .dataframe tbody tr th:only-of-type {\n",
       "        vertical-align: middle;\n",
       "    }\n",
       "\n",
       "    .dataframe tbody tr th {\n",
       "        vertical-align: top;\n",
       "    }\n",
       "\n",
       "    .dataframe thead th {\n",
       "        text-align: right;\n",
       "    }\n",
       "</style>\n",
       "<table border=\"1\" class=\"dataframe\">\n",
       "  <thead>\n",
       "    <tr style=\"text-align: right;\">\n",
       "      <th></th>\n",
       "      <th>Country</th>\n",
       "      <th>Happiness Rank</th>\n",
       "      <th>Happiness Score</th>\n",
       "      <th>Economy (GDP per Capita)</th>\n",
       "      <th>Life Expectancy</th>\n",
       "      <th>Freedom</th>\n",
       "      <th>Trust (Government Corruption)</th>\n",
       "      <th>Generosity</th>\n",
       "      <th>Family</th>\n",
       "      <th>Year</th>\n",
       "    </tr>\n",
       "  </thead>\n",
       "  <tbody>\n",
       "    <tr>\n",
       "      <th>0</th>\n",
       "      <td>Switzerland</td>\n",
       "      <td>1</td>\n",
       "      <td>7.587</td>\n",
       "      <td>1.39651</td>\n",
       "      <td>0.94143</td>\n",
       "      <td>0.66557</td>\n",
       "      <td>0.41978</td>\n",
       "      <td>0.29678</td>\n",
       "      <td>1.34951</td>\n",
       "      <td>2015</td>\n",
       "    </tr>\n",
       "    <tr>\n",
       "      <th>1</th>\n",
       "      <td>Iceland</td>\n",
       "      <td>2</td>\n",
       "      <td>7.561</td>\n",
       "      <td>1.30232</td>\n",
       "      <td>0.94784</td>\n",
       "      <td>0.62877</td>\n",
       "      <td>0.14145</td>\n",
       "      <td>0.43630</td>\n",
       "      <td>1.40223</td>\n",
       "      <td>2015</td>\n",
       "    </tr>\n",
       "    <tr>\n",
       "      <th>2</th>\n",
       "      <td>Denmark</td>\n",
       "      <td>3</td>\n",
       "      <td>7.527</td>\n",
       "      <td>1.32548</td>\n",
       "      <td>0.87464</td>\n",
       "      <td>0.64938</td>\n",
       "      <td>0.48357</td>\n",
       "      <td>0.34139</td>\n",
       "      <td>1.36058</td>\n",
       "      <td>2015</td>\n",
       "    </tr>\n",
       "    <tr>\n",
       "      <th>3</th>\n",
       "      <td>Norway</td>\n",
       "      <td>4</td>\n",
       "      <td>7.522</td>\n",
       "      <td>1.45900</td>\n",
       "      <td>0.88521</td>\n",
       "      <td>0.66973</td>\n",
       "      <td>0.36503</td>\n",
       "      <td>0.34699</td>\n",
       "      <td>1.33095</td>\n",
       "      <td>2015</td>\n",
       "    </tr>\n",
       "    <tr>\n",
       "      <th>4</th>\n",
       "      <td>Canada</td>\n",
       "      <td>5</td>\n",
       "      <td>7.427</td>\n",
       "      <td>1.32629</td>\n",
       "      <td>0.90563</td>\n",
       "      <td>0.63297</td>\n",
       "      <td>0.32957</td>\n",
       "      <td>0.45811</td>\n",
       "      <td>1.32261</td>\n",
       "      <td>2015</td>\n",
       "    </tr>\n",
       "    <tr>\n",
       "      <th>...</th>\n",
       "      <td>...</td>\n",
       "      <td>...</td>\n",
       "      <td>...</td>\n",
       "      <td>...</td>\n",
       "      <td>...</td>\n",
       "      <td>...</td>\n",
       "      <td>...</td>\n",
       "      <td>...</td>\n",
       "      <td>...</td>\n",
       "      <td>...</td>\n",
       "    </tr>\n",
       "    <tr>\n",
       "      <th>151</th>\n",
       "      <td>Rwanda</td>\n",
       "      <td>152</td>\n",
       "      <td>3.334</td>\n",
       "      <td>0.35900</td>\n",
       "      <td>0.61400</td>\n",
       "      <td>0.55500</td>\n",
       "      <td>0.41100</td>\n",
       "      <td>0.21700</td>\n",
       "      <td>0.71100</td>\n",
       "      <td>2019</td>\n",
       "    </tr>\n",
       "    <tr>\n",
       "      <th>152</th>\n",
       "      <td>Tanzania</td>\n",
       "      <td>153</td>\n",
       "      <td>3.231</td>\n",
       "      <td>0.47600</td>\n",
       "      <td>0.49900</td>\n",
       "      <td>0.41700</td>\n",
       "      <td>0.14700</td>\n",
       "      <td>0.27600</td>\n",
       "      <td>0.88500</td>\n",
       "      <td>2019</td>\n",
       "    </tr>\n",
       "    <tr>\n",
       "      <th>153</th>\n",
       "      <td>Afghanistan</td>\n",
       "      <td>154</td>\n",
       "      <td>3.203</td>\n",
       "      <td>0.35000</td>\n",
       "      <td>0.36100</td>\n",
       "      <td>0.00000</td>\n",
       "      <td>0.02500</td>\n",
       "      <td>0.15800</td>\n",
       "      <td>0.51700</td>\n",
       "      <td>2019</td>\n",
       "    </tr>\n",
       "    <tr>\n",
       "      <th>154</th>\n",
       "      <td>Central African Republic</td>\n",
       "      <td>155</td>\n",
       "      <td>3.083</td>\n",
       "      <td>0.02600</td>\n",
       "      <td>0.10500</td>\n",
       "      <td>0.22500</td>\n",
       "      <td>0.03500</td>\n",
       "      <td>0.23500</td>\n",
       "      <td>0.00000</td>\n",
       "      <td>2019</td>\n",
       "    </tr>\n",
       "    <tr>\n",
       "      <th>155</th>\n",
       "      <td>South Sudan</td>\n",
       "      <td>156</td>\n",
       "      <td>2.853</td>\n",
       "      <td>0.30600</td>\n",
       "      <td>0.29500</td>\n",
       "      <td>0.01000</td>\n",
       "      <td>0.09100</td>\n",
       "      <td>0.20200</td>\n",
       "      <td>0.57500</td>\n",
       "      <td>2019</td>\n",
       "    </tr>\n",
       "  </tbody>\n",
       "</table>\n",
       "<p>782 rows × 10 columns</p>\n",
       "</div>"
      ],
      "text/plain": [
       "                      Country  Happiness Rank  Happiness Score  \\\n",
       "0                 Switzerland               1            7.587   \n",
       "1                     Iceland               2            7.561   \n",
       "2                     Denmark               3            7.527   \n",
       "3                      Norway               4            7.522   \n",
       "4                      Canada               5            7.427   \n",
       "..                        ...             ...              ...   \n",
       "151                    Rwanda             152            3.334   \n",
       "152                  Tanzania             153            3.231   \n",
       "153               Afghanistan             154            3.203   \n",
       "154  Central African Republic             155            3.083   \n",
       "155               South Sudan             156            2.853   \n",
       "\n",
       "     Economy (GDP per Capita)  Life Expectancy  Freedom  \\\n",
       "0                     1.39651          0.94143  0.66557   \n",
       "1                     1.30232          0.94784  0.62877   \n",
       "2                     1.32548          0.87464  0.64938   \n",
       "3                     1.45900          0.88521  0.66973   \n",
       "4                     1.32629          0.90563  0.63297   \n",
       "..                        ...              ...      ...   \n",
       "151                   0.35900          0.61400  0.55500   \n",
       "152                   0.47600          0.49900  0.41700   \n",
       "153                   0.35000          0.36100  0.00000   \n",
       "154                   0.02600          0.10500  0.22500   \n",
       "155                   0.30600          0.29500  0.01000   \n",
       "\n",
       "     Trust (Government Corruption)  Generosity   Family  Year  \n",
       "0                          0.41978     0.29678  1.34951  2015  \n",
       "1                          0.14145     0.43630  1.40223  2015  \n",
       "2                          0.48357     0.34139  1.36058  2015  \n",
       "3                          0.36503     0.34699  1.33095  2015  \n",
       "4                          0.32957     0.45811  1.32261  2015  \n",
       "..                             ...         ...      ...   ...  \n",
       "151                        0.41100     0.21700  0.71100  2019  \n",
       "152                        0.14700     0.27600  0.88500  2019  \n",
       "153                        0.02500     0.15800  0.51700  2019  \n",
       "154                        0.03500     0.23500  0.00000  2019  \n",
       "155                        0.09100     0.20200  0.57500  2019  \n",
       "\n",
       "[782 rows x 10 columns]"
      ]
     },
     "execution_count": 43,
     "metadata": {},
     "output_type": "execute_result"
    }
   ],
   "source": [
    "happiness_data"
   ]
  },
  {
   "cell_type": "code",
   "execution_count": 44,
   "metadata": {},
   "outputs": [],
   "source": [
    "happiness_data = happiness_data.reset_index()"
   ]
  },
  {
   "cell_type": "markdown",
   "metadata": {},
   "source": [
    "Now with our dataset merged and fully ready, we then decided to clean the data and ensure that there were no erroneous or impossible values in the data.\n",
    "\n",
    "To start off with our cleaning, we wished to check if there were any rows with NaN values, to which there ended up being one. Specifically, the erroneous value was the value in the Trust column for the Country United Arab Emirates in the year 2018."
   ]
  },
  {
   "cell_type": "code",
   "execution_count": 45,
   "metadata": {},
   "outputs": [
    {
     "data": {
      "text/html": [
       "<div>\n",
       "<style scoped>\n",
       "    .dataframe tbody tr th:only-of-type {\n",
       "        vertical-align: middle;\n",
       "    }\n",
       "\n",
       "    .dataframe tbody tr th {\n",
       "        vertical-align: top;\n",
       "    }\n",
       "\n",
       "    .dataframe thead th {\n",
       "        text-align: right;\n",
       "    }\n",
       "</style>\n",
       "<table border=\"1\" class=\"dataframe\">\n",
       "  <thead>\n",
       "    <tr style=\"text-align: right;\">\n",
       "      <th></th>\n",
       "      <th>index</th>\n",
       "      <th>Country</th>\n",
       "      <th>Happiness Rank</th>\n",
       "      <th>Happiness Score</th>\n",
       "      <th>Economy (GDP per Capita)</th>\n",
       "      <th>Life Expectancy</th>\n",
       "      <th>Freedom</th>\n",
       "      <th>Trust (Government Corruption)</th>\n",
       "      <th>Generosity</th>\n",
       "      <th>Family</th>\n",
       "      <th>Year</th>\n",
       "    </tr>\n",
       "  </thead>\n",
       "  <tbody>\n",
       "    <tr>\n",
       "      <th>489</th>\n",
       "      <td>19</td>\n",
       "      <td>United Arab Emirates</td>\n",
       "      <td>20</td>\n",
       "      <td>6.774</td>\n",
       "      <td>2.096</td>\n",
       "      <td>0.67</td>\n",
       "      <td>0.284</td>\n",
       "      <td>NaN</td>\n",
       "      <td>0.186</td>\n",
       "      <td>0.776</td>\n",
       "      <td>2018</td>\n",
       "    </tr>\n",
       "  </tbody>\n",
       "</table>\n",
       "</div>"
      ],
      "text/plain": [
       "     index               Country  Happiness Rank  Happiness Score  \\\n",
       "489     19  United Arab Emirates              20            6.774   \n",
       "\n",
       "     Economy (GDP per Capita)  Life Expectancy  Freedom  \\\n",
       "489                     2.096             0.67    0.284   \n",
       "\n",
       "     Trust (Government Corruption)  Generosity  Family  Year  \n",
       "489                            NaN       0.186   0.776  2018  "
      ]
     },
     "execution_count": 45,
     "metadata": {},
     "output_type": "execute_result"
    }
   ],
   "source": [
    "# This is the only row with NaN\n",
    "happiness_data[happiness_data.isna().any(axis=1)]"
   ]
  },
  {
   "cell_type": "markdown",
   "metadata": {},
   "source": [
    "In order to deal with this erroneous value, we decided to simply input the previous year's value."
   ]
  },
  {
   "cell_type": "code",
   "execution_count": 46,
   "metadata": {},
   "outputs": [
    {
     "data": {
      "text/html": [
       "<div>\n",
       "<style scoped>\n",
       "    .dataframe tbody tr th:only-of-type {\n",
       "        vertical-align: middle;\n",
       "    }\n",
       "\n",
       "    .dataframe tbody tr th {\n",
       "        vertical-align: top;\n",
       "    }\n",
       "\n",
       "    .dataframe thead th {\n",
       "        text-align: right;\n",
       "    }\n",
       "</style>\n",
       "<table border=\"1\" class=\"dataframe\">\n",
       "  <thead>\n",
       "    <tr style=\"text-align: right;\">\n",
       "      <th></th>\n",
       "      <th>index</th>\n",
       "      <th>Country</th>\n",
       "      <th>Happiness Rank</th>\n",
       "      <th>Happiness Score</th>\n",
       "      <th>Economy (GDP per Capita)</th>\n",
       "      <th>Life Expectancy</th>\n",
       "      <th>Freedom</th>\n",
       "      <th>Trust (Government Corruption)</th>\n",
       "      <th>Generosity</th>\n",
       "      <th>Family</th>\n",
       "      <th>Year</th>\n",
       "    </tr>\n",
       "  </thead>\n",
       "  <tbody>\n",
       "    <tr>\n",
       "      <th>19</th>\n",
       "      <td>19</td>\n",
       "      <td>United Arab Emirates</td>\n",
       "      <td>20</td>\n",
       "      <td>6.901</td>\n",
       "      <td>1.427270</td>\n",
       "      <td>0.809250</td>\n",
       "      <td>0.641570</td>\n",
       "      <td>0.38583</td>\n",
       "      <td>0.264280</td>\n",
       "      <td>1.12575</td>\n",
       "      <td>2015</td>\n",
       "    </tr>\n",
       "    <tr>\n",
       "      <th>185</th>\n",
       "      <td>27</td>\n",
       "      <td>United Arab Emirates</td>\n",
       "      <td>28</td>\n",
       "      <td>6.573</td>\n",
       "      <td>1.573520</td>\n",
       "      <td>0.729930</td>\n",
       "      <td>0.562150</td>\n",
       "      <td>0.35561</td>\n",
       "      <td>0.265910</td>\n",
       "      <td>0.87114</td>\n",
       "      <td>2016</td>\n",
       "    </tr>\n",
       "    <tr>\n",
       "      <th>335</th>\n",
       "      <td>20</td>\n",
       "      <td>United Arab Emirates</td>\n",
       "      <td>21</td>\n",
       "      <td>6.648</td>\n",
       "      <td>1.626343</td>\n",
       "      <td>0.726798</td>\n",
       "      <td>0.608345</td>\n",
       "      <td>0.32449</td>\n",
       "      <td>0.360942</td>\n",
       "      <td>1.26641</td>\n",
       "      <td>2017</td>\n",
       "    </tr>\n",
       "    <tr>\n",
       "      <th>489</th>\n",
       "      <td>19</td>\n",
       "      <td>United Arab Emirates</td>\n",
       "      <td>20</td>\n",
       "      <td>6.774</td>\n",
       "      <td>2.096000</td>\n",
       "      <td>0.670000</td>\n",
       "      <td>0.284000</td>\n",
       "      <td>NaN</td>\n",
       "      <td>0.186000</td>\n",
       "      <td>0.77600</td>\n",
       "      <td>2018</td>\n",
       "    </tr>\n",
       "    <tr>\n",
       "      <th>646</th>\n",
       "      <td>20</td>\n",
       "      <td>United Arab Emirates</td>\n",
       "      <td>21</td>\n",
       "      <td>6.825</td>\n",
       "      <td>1.503000</td>\n",
       "      <td>0.825000</td>\n",
       "      <td>0.598000</td>\n",
       "      <td>0.18200</td>\n",
       "      <td>0.262000</td>\n",
       "      <td>1.31000</td>\n",
       "      <td>2019</td>\n",
       "    </tr>\n",
       "  </tbody>\n",
       "</table>\n",
       "</div>"
      ],
      "text/plain": [
       "     index               Country  Happiness Rank  Happiness Score  \\\n",
       "19      19  United Arab Emirates              20            6.901   \n",
       "185     27  United Arab Emirates              28            6.573   \n",
       "335     20  United Arab Emirates              21            6.648   \n",
       "489     19  United Arab Emirates              20            6.774   \n",
       "646     20  United Arab Emirates              21            6.825   \n",
       "\n",
       "     Economy (GDP per Capita)  Life Expectancy   Freedom  \\\n",
       "19                   1.427270         0.809250  0.641570   \n",
       "185                  1.573520         0.729930  0.562150   \n",
       "335                  1.626343         0.726798  0.608345   \n",
       "489                  2.096000         0.670000  0.284000   \n",
       "646                  1.503000         0.825000  0.598000   \n",
       "\n",
       "     Trust (Government Corruption)  Generosity   Family  Year  \n",
       "19                         0.38583    0.264280  1.12575  2015  \n",
       "185                        0.35561    0.265910  0.87114  2016  \n",
       "335                        0.32449    0.360942  1.26641  2017  \n",
       "489                            NaN    0.186000  0.77600  2018  \n",
       "646                        0.18200    0.262000  1.31000  2019  "
      ]
     },
     "execution_count": 46,
     "metadata": {},
     "output_type": "execute_result"
    }
   ],
   "source": [
    "# Let's replace the NaN with the previous year's value as a rough approximation\n",
    "happiness_data[happiness_data[\"Country\"] == \"United Arab Emirates\"]"
   ]
  },
  {
   "cell_type": "code",
   "execution_count": 47,
   "metadata": {},
   "outputs": [
    {
     "name": "stderr",
     "output_type": "stream",
     "text": [
      "/Users/ronishi/opt/anaconda3/lib/python3.8/site-packages/pandas/core/indexing.py:670: SettingWithCopyWarning: \n",
      "A value is trying to be set on a copy of a slice from a DataFrame\n",
      "\n",
      "See the caveats in the documentation: https://pandas.pydata.org/pandas-docs/stable/user_guide/indexing.html#returning-a-view-versus-a-copy\n",
      "  iloc._setitem_with_indexer(indexer, value)\n"
     ]
    }
   ],
   "source": [
    "happiness_data[\"Trust (Government Corruption)\"].loc[489] = 0.32449"
   ]
  },
  {
   "cell_type": "markdown",
   "metadata": {},
   "source": [
    "After updating and changing the NaN value, we then checked to make sure that we had no more NaN values in our data, as those values were the only ones we deemed to be erroneous. "
   ]
  },
  {
   "cell_type": "code",
   "execution_count": 48,
   "metadata": {},
   "outputs": [
    {
     "data": {
      "text/html": [
       "<div>\n",
       "<style scoped>\n",
       "    .dataframe tbody tr th:only-of-type {\n",
       "        vertical-align: middle;\n",
       "    }\n",
       "\n",
       "    .dataframe tbody tr th {\n",
       "        vertical-align: top;\n",
       "    }\n",
       "\n",
       "    .dataframe thead th {\n",
       "        text-align: right;\n",
       "    }\n",
       "</style>\n",
       "<table border=\"1\" class=\"dataframe\">\n",
       "  <thead>\n",
       "    <tr style=\"text-align: right;\">\n",
       "      <th></th>\n",
       "      <th>index</th>\n",
       "      <th>Country</th>\n",
       "      <th>Happiness Rank</th>\n",
       "      <th>Happiness Score</th>\n",
       "      <th>Economy (GDP per Capita)</th>\n",
       "      <th>Life Expectancy</th>\n",
       "      <th>Freedom</th>\n",
       "      <th>Trust (Government Corruption)</th>\n",
       "      <th>Generosity</th>\n",
       "      <th>Family</th>\n",
       "      <th>Year</th>\n",
       "    </tr>\n",
       "  </thead>\n",
       "  <tbody>\n",
       "  </tbody>\n",
       "</table>\n",
       "</div>"
      ],
      "text/plain": [
       "Empty DataFrame\n",
       "Columns: [index, Country, Happiness Rank, Happiness Score, Economy (GDP per Capita), Life Expectancy, Freedom, Trust (Government Corruption), Generosity, Family, Year]\n",
       "Index: []"
      ]
     },
     "execution_count": 48,
     "metadata": {},
     "output_type": "execute_result"
    }
   ],
   "source": [
    "# Checking to see if we removed all NaN\n",
    "happiness_data[happiness_data.isna().any(axis=1)]"
   ]
  },
  {
   "cell_type": "markdown",
   "metadata": {},
   "source": [
    "With this, we now finished performing all the cleaning and merging necessary with our dataset and we are now ready to make some observations with it.\n",
    "\n",
    "The first observation that we wished to show off was the overall trend in Happiness Score over the years. After grouping by year and averaging every country's happiness score, we then plotted it out on a bar graph."
   ]
  },
  {
   "cell_type": "code",
   "execution_count": 49,
   "metadata": {},
   "outputs": [],
   "source": [
    "happiness_per_year = happiness_data.groupby(\"Year\").mean()[\"Happiness Score\"]"
   ]
  },
  {
   "cell_type": "code",
   "execution_count": 50,
   "metadata": {},
   "outputs": [
    {
     "data": {
      "text/plain": [
       "<BarContainer object of 5 artists>"
      ]
     },
     "execution_count": 50,
     "metadata": {},
     "output_type": "execute_result"
    },
    {
     "data": {
      "image/png": "[encoded data removed]",
      "text/plain": [
       "<Figure size 720x360 with 1 Axes>"
      ]
     },
     "metadata": {
      "needs_background": "light"
     },
     "output_type": "display_data"
    }
   ],
   "source": [
    "import matplotlib.pyplot as plt\n",
    "\n",
    "\n",
    "# Subtracted 5.25 so you can see differences more clearly\n",
    "fig = plt.figure(figsize = (10, 5))\n",
    "plt.bar([\"2015\", \"2016\", \"2017\", \"2018\", \"2019\"], happiness_per_year - 5.25, color ='maroon',\n",
    "        width = 0.4)"
   ]
  },
  {
   "cell_type": "markdown",
   "metadata": {},
   "source": [
    "From our graph, it seems that although the overall happiness took a small dip from the year 2016 to 2017, all the other years have witnessed a trend of slightly increasing overall happiness score.\n",
    "\n",
    "---\n",
    "\n",
    "The next observation that we wished to plot with our data was to see the top 25 countries that were the most stable in terms of happiness rank in comparison to the others. In order to do this, we had utilized linear regression. We first fit the regression with the data of year and happiness rank for each country. We then took note of the coefficients of the model for each country. We then listed and sorted them for more ease of outputting our results. We also wished to show the top 25 countries that were improving their ranking."
   ]
  },
  {
   "cell_type": "code",
   "execution_count": 52,
   "metadata": {},
   "outputs": [],
   "source": [
    "import numpy as np\n",
    "from sklearn.linear_model import LinearRegression\n",
    "\n",
    "average_rank_slope = {}\n",
    "\n",
    "for country, data in happiness_data.groupby(\"Country\"):\n",
    "    reg = LinearRegression().fit(data[\"Year\"].values.reshape(-1,1), data[\"Happiness Rank\"].values.reshape(-1,1))\n",
    "    average_rank_slope[country] = reg.coef_[0][0]"
   ]
  },
  {
   "cell_type": "code",
   "execution_count": 53,
   "metadata": {},
   "outputs": [],
   "source": [
    "tupled_rank_slopes = list(average_rank_slope.items())\n",
    "sorted_tupled_rank_slopes = sorted(tupled_rank_slopes, key=lambda x: abs(x[1]))"
   ]
  },
  {
   "cell_type": "code",
   "execution_count": 54,
   "metadata": {},
   "outputs": [
    {
     "data": {
      "text/plain": [
       "['Djibouti',\n",
       " 'Gambia',\n",
       " 'Hong Kong S.A.R., China',\n",
       " 'North Macedonia',\n",
       " 'Oman',\n",
       " 'Puerto Rico',\n",
       " 'Somaliland Region',\n",
       " 'Somaliland region',\n",
       " 'Suriname',\n",
       " 'Taiwan Province of China',\n",
       " 'Denmark',\n",
       " 'Palestinian Territories',\n",
       " 'Chile',\n",
       " 'Costa Rica',\n",
       " 'Ecuador',\n",
       " 'Turkey',\n",
       " 'Qatar',\n",
       " 'Nigeria',\n",
       " 'New Zealand',\n",
       " 'Australia',\n",
       " 'Sweden',\n",
       " 'Norway',\n",
       " 'Belgium',\n",
       " 'Uruguay',\n",
       " 'Sri Lanka']"
      ]
     },
     "execution_count": 54,
     "metadata": {},
     "output_type": "execute_result"
    }
   ],
   "source": [
    "# Most stable 25 countries in terms of happiness rank\n",
    "list(map(lambda x: x[0], sorted_tupled_rank_slopes[:25]))"
   ]
  },
  {
   "cell_type": "code",
   "execution_count": 55,
   "metadata": {},
   "outputs": [
    {
     "data": {
      "text/plain": [
       "['Brazil',\n",
       " 'Bhutan',\n",
       " 'South Sudan',\n",
       " 'Tunisia',\n",
       " 'Jordan',\n",
       " 'Botswana',\n",
       " 'Liberia',\n",
       " 'Thailand',\n",
       " 'Moldova',\n",
       " 'Indonesia',\n",
       " 'Malawi',\n",
       " 'Sudan',\n",
       " 'Belarus',\n",
       " 'Ukraine',\n",
       " 'Northern Cyprus',\n",
       " 'India',\n",
       " 'Haiti',\n",
       " 'Zimbabwe',\n",
       " 'Mozambique',\n",
       " 'Swaziland',\n",
       " 'Algeria',\n",
       " 'Somalia',\n",
       " 'Lesotho',\n",
       " 'Zambia',\n",
       " 'Venezuela']"
      ]
     },
     "execution_count": 55,
     "metadata": {},
     "output_type": "execute_result"
    }
   ],
   "source": [
    "# Top 25 countries that are improving their ranking\n",
    "sorted_tupled_rank_slopes_non_abs = sorted(tupled_rank_slopes, key=lambda x: x[1])\n",
    "list(map(lambda x: x[0], sorted_tupled_rank_slopes_non_abs[-25:]))"
   ]
  },
  {
   "cell_type": "markdown",
   "metadata": {},
   "source": [
    "An observation that we found particularly interesting from these results was the fact that the United States did not make it into the top 25 most stable countries, nor did it even make the top 25 improving countries.\n",
    "\n",
    "---\n",
    "\n",
    "Our final observation that we wished to take note of with our dataset was to see if there were any specific features that correlated with happiness. To check this, we first simply plotted out correlation coefficients with each and every feature."
   ]
  },
  {
   "cell_type": "code",
   "execution_count": 56,
   "metadata": {},
   "outputs": [
    {
     "data": {
      "text/plain": [
       "index                           -0.992073\n",
       "Happiness Rank                  -0.992066\n",
       "Happiness Score                  1.000000\n",
       "Economy (GDP per Capita)         0.789284\n",
       "Life Expectancy                  0.742456\n",
       "Freedom                          0.551258\n",
       "Trust (Government Corruption)    0.400103\n",
       "Generosity                       0.137578\n",
       "Family                           0.648799\n",
       "Year                             0.007065\n",
       "Name: Happiness Score, dtype: float64"
      ]
     },
     "execution_count": 56,
     "metadata": {},
     "output_type": "execute_result"
    }
   ],
   "source": [
    "# Checking for features that correlate with happiness\n",
    "happiness_data.corr(method ='pearson')[\"Happiness Score\"]"
   ]
  },
  {
   "cell_type": "code",
   "execution_count": 68,
   "metadata": {},
   "outputs": [
    {
     "data": {
      "image/png": "[encoded data removed]",
      "text/plain": [
       "<Figure size 1152x1152 with 4 Axes>"
      ]
     },
     "metadata": {
      "needs_background": "light"
     },
     "output_type": "display_data"
    }
   ],
   "source": [
    "fig,axes = plt.subplots(nrows=2, ncols=2, figsize=(16, 16))\n",
    "\n",
    "axes[0][0].scatter(happiness_data[\"Economy (GDP per Capita)\"],happiness_data[\"Happiness Score\"])\n",
    "axes[0][0].set_xlabel(\"Economy (GDP per Capita)\")\n",
    "axes[0][0].set_ylabel(\"Happiness Score\")\n",
    "\n",
    "axes[0][1].scatter(happiness_data[\"Life Expectancy\"],happiness_data[\"Happiness Score\"])\n",
    "axes[0][1].set_xlabel(\"Life Expectancy\")\n",
    "axes[0][1].set_ylabel(\"Happiness Score\")\n",
    "\n",
    "axes[1][0].scatter(happiness_data[\"Freedom\"],happiness_data[\"Happiness Score\"])\n",
    "axes[1][0].set_xlabel(\"Freedom\")\n",
    "axes[1][0].set_ylabel(\"Happiness Score\")\n",
    "\n",
    "axes[1][1].scatter(happiness_data[\"Family\"],happiness_data[\"Happiness Score\"])\n",
    "axes[1][1].set_xlabel(\"Family\")\n",
    "axes[1][1].set_ylabel(\"Happiness Score\")\n",
    "\n",
    "plt.show()"
   ]
  },
  {
   "cell_type": "markdown",
   "metadata": {},
   "source": [
    "Upon seeing our correlation coefficients, we saw that Economy, Life Expectancy, Freedom, and Family had particularly strong relevant correlations. In order to more significantly highlight this observation, we chose to plot them out on scatter plot graphs, one for each feature that we deemed noteworthy.\n",
    "\n",
    "---\n",
    "\n",
    "# # Modeling and Question Answering:"
   ]
  }
 ],
 "metadata": {
  "kernelspec": {
   "display_name": "Python 3",
   "language": "python",
   "name": "python3"
  },
  "language_info": {
   "codemirror_mode": {
    "name": "ipython",
    "version": 3
   },
   "file_extension": ".py",
   "mimetype": "text/x-python",
   "name": "python",
   "nbconvert_exporter": "python",
   "pygments_lexer": "ipython3",
   "version": "3.8.5"
  }
 },
 "nbformat": 4,
 "nbformat_minor": 4
}
